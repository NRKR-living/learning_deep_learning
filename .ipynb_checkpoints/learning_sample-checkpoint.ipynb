{
 "cells": [
  {
   "cell_type": "markdown",
   "metadata": {},
   "source": [
    "# 損失関数\n",
    "<dl>\n",
    "    <dt>2乗和誤差</dt>\n",
    "    <dd>誤差を二乗したものの合計をさらに半分にしたもの。</dd>\n",
    "    <dt>交差エントロピー誤差</dt>\n",
    "    <dd>実際の公式は本のものとは違う</dd>\n",
    "</dl>\n",
    "    [参照](http://yaju3d.hatenablog.jp/entry/2018/11/30/225841)"
   ]
  },
  {
   "cell_type": "markdown",
   "metadata": {},
   "source": []
  }
 ],
 "metadata": {
  "kernelspec": {
   "display_name": "Python 3",
   "language": "python",
   "name": "python3"
  },
  "language_info": {
   "codemirror_mode": {
    "name": "ipython",
    "version": 3
   },
   "file_extension": ".py",
   "mimetype": "text/x-python",
   "name": "python",
   "nbconvert_exporter": "python",
   "pygments_lexer": "ipython3",
   "version": "3.7.6"
  }
 },
 "nbformat": 4,
 "nbformat_minor": 4
}
