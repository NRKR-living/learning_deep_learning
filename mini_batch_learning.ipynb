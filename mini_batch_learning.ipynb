{
 "cells": [
  {
   "cell_type": "code",
   "execution_count": 1,
   "metadata": {},
   "outputs": [],
   "source": [
    "import sys, os\n",
    "\n",
    "os.chdir('/users/isonoyuma/deep-learning-from-scratch')\n",
    "sys.path.append(os.pardir)\n",
    "import numpy as np\n",
    "\n",
    "from dataset.mnist import load_mnist\n",
    "from ch04.two_layer_net import TwoLayerNet"
   ]
  },
  {
   "cell_type": "code",
   "execution_count": 2,
   "metadata": {},
   "outputs": [],
   "source": [
    "(x_train, t_train), (x_test, t_test) = load_mnist(normalize=True, one_hot_label=True)\n",
    "\n",
    "train_loss_list = []\n",
    "\n",
    "#ハイパーパラメータ\n",
    "iter_num = 10000\n",
    "train_size = x_train.shape[0]\n",
    "batch_size = 100\n",
    "learning_rate = 0.1\n",
    "\n",
    "network = TwoLayerNet(input_size = 784, hidden_size = 50, output_size = 10)\n",
    "\n",
    "for i in range(iter_num):\n",
    "    #ミニバッチ取得\n",
    "    batch_mask = np.random.choice(train_size, batch_size)\n",
    "    x_batch = x_train[batch_mask]\n",
    "    t_batch = t_train[batch_mask]\n",
    "    \n",
    "    #勾配の計算\n",
    "    #grad = network.numerical_gradient(x_batch, t_batch)\n",
    "    grad = network.gradient(x_batch, t_batch)#高速版\n",
    "    \n",
    "    #パラメータの更新\n",
    "    for key in (\"W1\", \"b1\", \"W2\", \"b2\"):\n",
    "        network.params[key] -= learning_rate * grad[key]\n",
    "        \n",
    "    #学習経過の記録\n",
    "    loss = network.loss(x_batch, t_batch)\n",
    "    train_loss_list.append(loss)"
   ]
  },
  {
   "cell_type": "code",
   "execution_count": 3,
   "metadata": {},
   "outputs": [
    {
     "data": {
      "text/plain": [
       "0.204157843579817"
      ]
     },
     "execution_count": 3,
     "metadata": {},
     "output_type": "execute_result"
    }
   ],
   "source": [
    "loss"
   ]
  },
  {
   "cell_type": "code",
   "execution_count": 8,
   "metadata": {},
   "outputs": [
    {
     "name": "stdout",
     "output_type": "stream",
     "text": [
      "train acc, test acc | 0.10441666666666667, 0.1028\n",
      "train acc, test acc | 0.8046666666666666, 0.8075\n",
      "train acc, test acc | 0.8802, 0.8839\n",
      "train acc, test acc | 0.8992333333333333, 0.9014\n",
      "train acc, test acc | 0.9095166666666666, 0.913\n",
      "train acc, test acc | 0.9150833333333334, 0.9191\n",
      "train acc, test acc | 0.92015, 0.9244\n",
      "train acc, test acc | 0.9248833333333333, 0.9275\n",
      "train acc, test acc | 0.9279833333333334, 0.9311\n",
      "train acc, test acc | 0.9313833333333333, 0.9336\n",
      "train acc, test acc | 0.9346166666666667, 0.9367\n",
      "train acc, test acc | 0.9373166666666667, 0.9373\n",
      "train acc, test acc | 0.9394, 0.9383\n",
      "train acc, test acc | 0.9417333333333333, 0.9403\n",
      "train acc, test acc | 0.9437333333333333, 0.9425\n",
      "train acc, test acc | 0.9462, 0.9437\n",
      "train acc, test acc | 0.9474833333333333, 0.945\n"
     ]
    }
   ],
   "source": [
    "(x_train, t_train), (x_test, t_test) = load_mnist(normalize=True, one_hot_label=True)\n",
    "\n",
    "train_loss_list = []\n",
    "\n",
    "#変更箇所\n",
    "train_acc_list = []#１エポックごとにtrain dataに対する正答率を格納\n",
    "test_acc_list = []#１エポックごとにtest dataに対する正答率を格納\n",
    "\n",
    "iter_per_epoch = max(train_size / batch_size, 1)\n",
    "#-------\n",
    "\n",
    "#ハイパーパラメータ\n",
    "iter_num = 10000\n",
    "batch_size = 100\n",
    "learning_rate = 0.1\n",
    "\n",
    "network = TwoLayerNet(input_size = 784, hidden_size = 50, output_size = 10)\n",
    "\n",
    "for i in range(iter_num):\n",
    "    #ミニバッチ取得\n",
    "    batch_mask = np.random.choice(train_size, batch_size)\n",
    "    x_batch = x_train[batch_mask]\n",
    "    t_batch = t_train[batch_mask]\n",
    "    \n",
    "    #勾配の計算\n",
    "    #grad = network.numerical_gradient(x_batch, t_batch)#今までのやり方に準拠\n",
    "    grad = network.gradient(x_batch, t_batch)#高速版(誤差逆伝播方を用いている)\n",
    "    \n",
    "    #パラメータの更新\n",
    "    for key in (\"W1\", \"b1\", \"W2\", \"b2\"):\n",
    "        network.params[key] -= learning_rate * grad[key]\n",
    "        \n",
    "    #学習経過の記録\n",
    "    loss = network.loss(x_batch, t_batch)\n",
    "    train_loss_list.append(loss)\n",
    "    \n",
    "    if i % iter_per_epoch == 0:\n",
    "        train_acc = network.accuracy(x_train, t_train)\n",
    "        test_acc = network.accuracy(x_test, t_test)\n",
    "        train_acc_list.append(train_acc)\n",
    "        test_acc_list.append(test_acc)\n",
    "        print(\"train acc, test acc | \" + str(train_acc) + \", \" + str(test_acc))"
   ]
  },
  {
   "cell_type": "code",
   "execution_count": 7,
   "metadata": {},
   "outputs": [
    {
     "data": {
      "text/plain": [
       "60000"
      ]
     },
     "execution_count": 7,
     "metadata": {},
     "output_type": "execute_result"
    }
   ],
   "source": []
  },
  {
   "cell_type": "code",
   "execution_count": null,
   "metadata": {},
   "outputs": [],
   "source": []
  }
 ],
 "metadata": {
  "kernelspec": {
   "display_name": "Python 3",
   "language": "python",
   "name": "python3"
  },
  "language_info": {
   "codemirror_mode": {
    "name": "ipython",
    "version": 3
   },
   "file_extension": ".py",
   "mimetype": "text/x-python",
   "name": "python",
   "nbconvert_exporter": "python",
   "pygments_lexer": "ipython3",
   "version": "3.7.6"
  }
 },
 "nbformat": 4,
 "nbformat_minor": 4
}
